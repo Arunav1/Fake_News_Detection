{
 "cells": [
  {
   "cell_type": "code",
   "execution_count": 1,
   "id": "1210f133",
   "metadata": {},
   "outputs": [],
   "source": [
    "import numpy as np #provides arrays\n",
    "import pandas as pd #for data cleaning\n",
    "import re  #for making patterns\n",
    "from nltk.corpus import stopwords # the in for of in with these are stop words in English literature.\n",
    "from nltk.stem.porter import PorterStemmer  # finding the stem word e.g. Loving Loved == Love\n",
    "from sklearn.feature_extraction.text import TfidfVectorizer # converting the word into vector e.g. Love == [0,0]\n",
    "from sklearn.model_selection import train_test_split\n",
    "from sklearn.linear_model import LogisticRegression\n",
    "from sklearn.metrics import accuracy_score"
   ]
  },
  {
   "cell_type": "code",
   "execution_count": 2,
   "id": "0a1352c9",
   "metadata": {},
   "outputs": [],
   "source": [
    "news_df = pd.read_csv('fake_news_train_clean.csv')"
   ]
  },
  {
   "cell_type": "code",
   "execution_count": 4,
   "id": "3c328664",
   "metadata": {},
   "outputs": [
    {
     "data": {
      "text/html": [
       "<div>\n",
       "<style scoped>\n",
       "    .dataframe tbody tr th:only-of-type {\n",
       "        vertical-align: middle;\n",
       "    }\n",
       "\n",
       "    .dataframe tbody tr th {\n",
       "        vertical-align: top;\n",
       "    }\n",
       "\n",
       "    .dataframe thead th {\n",
       "        text-align: right;\n",
       "    }\n",
       "</style>\n",
       "<table border=\"1\" class=\"dataframe\">\n",
       "  <thead>\n",
       "    <tr style=\"text-align: right;\">\n",
       "      <th></th>\n",
       "      <th>Unnamed: 0</th>\n",
       "      <th>title_txt</th>\n",
       "      <th>label</th>\n",
       "    </tr>\n",
       "  </thead>\n",
       "  <tbody>\n",
       "    <tr>\n",
       "      <th>0</th>\n",
       "      <td>0</td>\n",
       "      <td>hous dem aid didnt even see comey letter jason...</td>\n",
       "      <td>1</td>\n",
       "    </tr>\n",
       "    <tr>\n",
       "      <th>1</th>\n",
       "      <td>1</td>\n",
       "      <td>flynn hillari clinton big woman campu  breitba...</td>\n",
       "      <td>0</td>\n",
       "    </tr>\n",
       "    <tr>\n",
       "      <th>2</th>\n",
       "      <td>2</td>\n",
       "      <td>truth might get fire truth might get fire octo...</td>\n",
       "      <td>1</td>\n",
       "    </tr>\n",
       "    <tr>\n",
       "      <th>3</th>\n",
       "      <td>3</td>\n",
       "      <td>15 civilian kill singl us airstrik identifi vi...</td>\n",
       "      <td>1</td>\n",
       "    </tr>\n",
       "    <tr>\n",
       "      <th>4</th>\n",
       "      <td>4</td>\n",
       "      <td>iranian woman jail fiction unpublish stori wom...</td>\n",
       "      <td>1</td>\n",
       "    </tr>\n",
       "    <tr>\n",
       "      <th>5</th>\n",
       "      <td>5</td>\n",
       "      <td>jacki mason hollywood would love trump bomb no...</td>\n",
       "      <td>0</td>\n",
       "    </tr>\n",
       "    <tr>\n",
       "      <th>6</th>\n",
       "      <td>7</td>\n",
       "      <td>benoît hamon win french socialist parti presid...</td>\n",
       "      <td>0</td>\n",
       "    </tr>\n",
       "    <tr>\n",
       "      <th>7</th>\n",
       "      <td>9</td>\n",
       "      <td>backchannel plan ukrain russia courtesi trump ...</td>\n",
       "      <td>0</td>\n",
       "    </tr>\n",
       "    <tr>\n",
       "      <th>8</th>\n",
       "      <td>10</td>\n",
       "      <td>obama organ action partner soroslink ‘indivis ...</td>\n",
       "      <td>0</td>\n",
       "    </tr>\n",
       "    <tr>\n",
       "      <th>9</th>\n",
       "      <td>11</td>\n",
       "      <td>bbc comedi sketch real housew isi caus outrag ...</td>\n",
       "      <td>0</td>\n",
       "    </tr>\n",
       "  </tbody>\n",
       "</table>\n",
       "</div>"
      ],
      "text/plain": [
       "   Unnamed: 0                                          title_txt  label\n",
       "0           0  hous dem aid didnt even see comey letter jason...      1\n",
       "1           1  flynn hillari clinton big woman campu  breitba...      0\n",
       "2           2  truth might get fire truth might get fire octo...      1\n",
       "3           3  15 civilian kill singl us airstrik identifi vi...      1\n",
       "4           4  iranian woman jail fiction unpublish stori wom...      1\n",
       "5           5  jacki mason hollywood would love trump bomb no...      0\n",
       "6           7  benoît hamon win french socialist parti presid...      0\n",
       "7           9  backchannel plan ukrain russia courtesi trump ...      0\n",
       "8          10  obama organ action partner soroslink ‘indivis ...      0\n",
       "9          11  bbc comedi sketch real housew isi caus outrag ...      0"
      ]
     },
     "execution_count": 4,
     "metadata": {},
     "output_type": "execute_result"
    }
   ],
   "source": [
    "news_df.head(10)"
   ]
  },
  {
   "cell_type": "code",
   "execution_count": 5,
   "id": "10a726e5",
   "metadata": {},
   "outputs": [
    {
     "data": {
      "text/plain": [
       "(18285, 3)"
      ]
     },
     "execution_count": 5,
     "metadata": {},
     "output_type": "execute_result"
    }
   ],
   "source": [
    "news_df.shape"
   ]
  },
  {
   "cell_type": "code",
   "execution_count": 6,
   "id": "ab1ccf7d",
   "metadata": {},
   "outputs": [
    {
     "data": {
      "text/html": [
       "<div>\n",
       "<style scoped>\n",
       "    .dataframe tbody tr th:only-of-type {\n",
       "        vertical-align: middle;\n",
       "    }\n",
       "\n",
       "    .dataframe tbody tr th {\n",
       "        vertical-align: top;\n",
       "    }\n",
       "\n",
       "    .dataframe thead th {\n",
       "        text-align: right;\n",
       "    }\n",
       "</style>\n",
       "<table border=\"1\" class=\"dataframe\">\n",
       "  <thead>\n",
       "    <tr style=\"text-align: right;\">\n",
       "      <th></th>\n",
       "      <th>Unnamed: 0</th>\n",
       "      <th>title_txt</th>\n",
       "      <th>label</th>\n",
       "    </tr>\n",
       "  </thead>\n",
       "  <tbody>\n",
       "    <tr>\n",
       "      <th>0</th>\n",
       "      <td>False</td>\n",
       "      <td>False</td>\n",
       "      <td>False</td>\n",
       "    </tr>\n",
       "    <tr>\n",
       "      <th>1</th>\n",
       "      <td>False</td>\n",
       "      <td>False</td>\n",
       "      <td>False</td>\n",
       "    </tr>\n",
       "    <tr>\n",
       "      <th>2</th>\n",
       "      <td>False</td>\n",
       "      <td>False</td>\n",
       "      <td>False</td>\n",
       "    </tr>\n",
       "    <tr>\n",
       "      <th>3</th>\n",
       "      <td>False</td>\n",
       "      <td>False</td>\n",
       "      <td>False</td>\n",
       "    </tr>\n",
       "    <tr>\n",
       "      <th>4</th>\n",
       "      <td>False</td>\n",
       "      <td>False</td>\n",
       "      <td>False</td>\n",
       "    </tr>\n",
       "    <tr>\n",
       "      <th>...</th>\n",
       "      <td>...</td>\n",
       "      <td>...</td>\n",
       "      <td>...</td>\n",
       "    </tr>\n",
       "    <tr>\n",
       "      <th>18280</th>\n",
       "      <td>False</td>\n",
       "      <td>False</td>\n",
       "      <td>False</td>\n",
       "    </tr>\n",
       "    <tr>\n",
       "      <th>18281</th>\n",
       "      <td>False</td>\n",
       "      <td>False</td>\n",
       "      <td>False</td>\n",
       "    </tr>\n",
       "    <tr>\n",
       "      <th>18282</th>\n",
       "      <td>False</td>\n",
       "      <td>False</td>\n",
       "      <td>False</td>\n",
       "    </tr>\n",
       "    <tr>\n",
       "      <th>18283</th>\n",
       "      <td>False</td>\n",
       "      <td>False</td>\n",
       "      <td>False</td>\n",
       "    </tr>\n",
       "    <tr>\n",
       "      <th>18284</th>\n",
       "      <td>False</td>\n",
       "      <td>False</td>\n",
       "      <td>False</td>\n",
       "    </tr>\n",
       "  </tbody>\n",
       "</table>\n",
       "<p>18285 rows × 3 columns</p>\n",
       "</div>"
      ],
      "text/plain": [
       "       Unnamed: 0  title_txt  label\n",
       "0           False      False  False\n",
       "1           False      False  False\n",
       "2           False      False  False\n",
       "3           False      False  False\n",
       "4           False      False  False\n",
       "...           ...        ...    ...\n",
       "18280       False      False  False\n",
       "18281       False      False  False\n",
       "18282       False      False  False\n",
       "18283       False      False  False\n",
       "18284       False      False  False\n",
       "\n",
       "[18285 rows x 3 columns]"
      ]
     },
     "execution_count": 6,
     "metadata": {},
     "output_type": "execute_result"
    }
   ],
   "source": [
    "news_df.isnull()"
   ]
  },
  {
   "cell_type": "code",
   "execution_count": 7,
   "id": "e512f5d8",
   "metadata": {},
   "outputs": [
    {
     "data": {
      "text/plain": [
       "Unnamed: 0    0\n",
       "title_txt     0\n",
       "label         0\n",
       "dtype: int64"
      ]
     },
     "execution_count": 7,
     "metadata": {},
     "output_type": "execute_result"
    }
   ],
   "source": [
    "news_df.isna().sum()"
   ]
  },
  {
   "cell_type": "code",
   "execution_count": 12,
   "id": "dcd21217",
   "metadata": {},
   "outputs": [
    {
     "data": {
      "text/plain": [
       "'pat caddel trump white hous look like fort apach attack media polit class veteran polit strategist pat caddel talk american health care act ahca possibl effect 2018 midterm elect siriusxm host matt boyl monday breitbart news daili smart peopl washington understood polit time peopl said ‘well wouldnt hurt democrat countri love caddel said convent media wisdom obamacar time passag  listen sever elect say ‘oh cours republican doom continu refer predict mani 20 hous republican could face tougher   campaign 2018 ahca theyr depend caddel argu far ill tell fairli compet person idea what bill that talk point headlin thrown trump administr congression peopl clue what dont know answer problem rais  time failur republican white hous entir oper set narr made import done  —   cede ground oppon basi ‘well know precondit go hurt go cut go destroy medicaid whatev conced ground conced lot continu  im sure next elect go health care one way caddel ad depend whether get someth fix whether peopl perceiv donald trump kept word whether seen anoth partisan battl im sure   dont see great movement poll term parti support either parti sinc theyv sever month rais im somewhat skeptic think elect 2018 go much larger ground mere healthcar revolt may may work donald trump benefit  —   yet see  —   detriment think go see thing rais singl import thing economi happen predict  let add anoth thing whether donald trump start repres white hous voter put top said critic trump team fail show much interest clariti use 2016 elect victori shape new polit major caddel agre boyl hous speaker paul ryan major forc push trump convent republican direct said ryan paramount exampl call chamber commerc republican establish parti slaughter 2016  caddel said establish republican manag spark upris victori republican 2014 immedi decis decemb go confer sell everyth republican candid campaign  group peopl never want donald trump dont want donald trump longer keep let stab back what happen  —   whether what happen fcc privaci right warn  way donald trump take massiv disast airlin countri caddel ask nowher leav much hang partli fear fail organ principl white hous suscept quot ‘alli  —   enemi  —   want push agenda agenda american peopl never want real danger  caddel fault trump administr fail use bulli pulpit white hous influenc america polit cultur healthcar debat serv acut exampl caveat poll becom unreli much conduct univers univers poll longer conduct truli unbias manner said doubt level energet support hous obamacar replac bill exceed 25 percent get fix fact market think collaps marvel part problem place ordinari peopl even sophist peopl go find truth get propaganda msnbc cnn mainstream media dont enough place peopl go sort fact certainli isnt come hous leadership  boyl note white hous could spend time tout success achiev lowest unemploy figur last month decad caddel respond want start throw around unemploy number denounc cook sens longer reflect real realiti unemploy last year peopl cannot get   work whatev number still higher shouldnt repeat mistak obama peopl bill maher world made overemphas import headlin unemploy figur still good economi get better pronounc trump opportun stand peopl shake washington foundat that said someth like airlin entir reason airlin industri much wors europ everyon washington bought peopl includ pathet congressmen saw question wit last week complain trip noth get much money  start drain swamp rather invit swamp eat begin turn caddel advis stay true statement white hous strategi could done   thing health care gotten bill pass two thing deal drug price also allow interst competit lay marker would good  thing tax reform take away hedg fund money prove he go pawn big billionair rich peopl  —   mean trump need take charg continu could get success wont long allow led enemi alli  boyl suggest presid trump problem stem enorm perman bureaucraci prone undermin dramat reform said hope sign trump begin make progress obstacl agre matt lost got kind frustrat alreadi thing happen said caddel ill tell dont mean critic done good thing ad surround rememb theyr war entir polit class white hous sometim look like fort apach attack mean indian everywher  nation media liter prove enemi american peopl put news true factual help trump said accus media band togeth neg undermin   polit class lobbyist lawyer money republican parti democrat parti  —   unit desper need go back normal corrupt ad trump need strike high ground uniqu challeng presid ever got figur uniqu way think theyr capabl far somebodi need tell theyr caddel said breitbart news daili air siriusxm patriot 125 weekday 600 900 eastern listen full audio interview'"
      ]
     },
     "execution_count": 12,
     "metadata": {},
     "output_type": "execute_result"
    }
   ],
   "source": [
    "#Therefore, here we can see that there exists no null value.\n",
    "news_df['title_txt'][4000] #checking a random news article"
   ]
  },
  {
   "cell_type": "code",
   "execution_count": 24,
   "id": "47391c1a",
   "metadata": {},
   "outputs": [],
   "source": [
    "#stemming the articles:\n",
    "ps = PorterStemmer()\n",
    "\n",
    "def stemming(title_txt):\n",
    "    stemmed_content = re.sub('[^a-zA-Z]',' ', title_txt)\n",
    "    stemmed_content = stemmed_content.lower()\n",
    "    stemmed_content = stemmed_content.split()\n",
    "    \n",
    "    stemmed_content = [ps.stem(word) for word in stemmed_content if not word in stopwords.words('english')]\n",
    "    stemmed_content = \" \".join(stemmed_content)\n",
    "    return stemmed_content"
   ]
  },
  {
   "cell_type": "code",
   "execution_count": 26,
   "id": "54374d15",
   "metadata": {},
   "outputs": [
    {
     "data": {
      "text/plain": [
       "0        hous dem aid didnt even see comey letter jason...\n",
       "1        flynn hillari clinton big woman campu  breitba...\n",
       "2        truth might get fire truth might get fire octo...\n",
       "3        15 civilian kill singl us airstrik identifi vi...\n",
       "4        iranian woman jail fiction unpublish stori wom...\n",
       "                               ...                        \n",
       "18280    rapper ti trump poster child white supremaci r...\n",
       "18281    nfl playoff schedul matchup odd  new york time...\n",
       "18282    maci said receiv takeov approach hudson bay  n...\n",
       "18283    nato russia hold parallel exercis balkan nato ...\n",
       "18284    keep f35 aliv   david swanson author activist ...\n",
       "Name: title_txt, Length: 18285, dtype: object"
      ]
     },
     "execution_count": 26,
     "metadata": {},
     "output_type": "execute_result"
    }
   ],
   "source": [
    "news_df['title_txt']"
   ]
  },
  {
   "cell_type": "code",
   "execution_count": 27,
   "id": "ed847eef",
   "metadata": {},
   "outputs": [],
   "source": [
    "#Vector conversion:\n",
    "X = news_df['title_txt'].values\n",
    "Y = news_df['label'].values"
   ]
  },
  {
   "cell_type": "code",
   "execution_count": 30,
   "id": "82e550ff",
   "metadata": {},
   "outputs": [
    {
     "name": "stdout",
     "output_type": "stream",
     "text": [
      "['hous dem aid didnt even see comey letter jason chaffetz tweet hous dem aid didnt even see comey letter jason chaffetz tweet darrel lucu octob 30 2016 subscrib jason chaffetz stump american fork utah  imag courtesi michael jolley avail creativ commonsbi licens apolog keith olbermann doubt worst person world week–fbi director jame comey accord hous democrat aid look like also know secondworst person well turn comey sent nowinfam letter announc fbi look email may relat hillari clinton email server rank democrat relev committe didnt hear comey found via tweet one republican committe chairmen know comey notifi republican chairmen democrat rank member hous intellig judiciari oversight committe agenc review email recent discov order see contain classifi inform long letter went oversight committe chairman jason chaffetz set polit world ablaz tweet fbi dir inform fbi learn exist email appear pertin investig case reopen — jason chaffetz jasoninthehous octob 28 2016 cours know case  comey actual say review email light unrel case–which know anthoni weiner sext teenag appar littl thing fact didnt matter chaffetz utah republican alreadi vow initi raft investig hillari wins–at least two year worth possibl entir term worth appar chaffetz thought fbi alreadi work him–result tweet briefli roil nation cooler head realiz dud accord senior hous democrat aid misread letter may least chaffetz sin aid told shareblu boss democrat didnt even know comey letter time–and found check twitter democrat rank member relev committe didnt receiv comey letter republican chairmen fact democrat rank member receiv chairman oversight govern reform committe jason chaffetz tweet made public let see weve got right fbi director tell chaffetz gop committe chairmen major develop potenti polit explos investig neither chaffetz colleagu courtesi let democrat counterpart know instead accord aid made find twitter alreadi talk daili ko comey provid advanc notic letter chaffetz republican give time turn spin machin may make good theater noth far even suggest case noth far suggest comey anyth grossli incompet tonedeaf suggest howev chaffetz act way make dan burton darrel issa look like model respons bipartisanship didnt even decenc notifi rank member elijah cum someth explos doesnt trampl basic standard fair dont know grant like chaffetz answer sit ridicul republican district anchor provo orem cook partisan vote index r25 gave mitt romney punish 78 percent vote 2012 moreov republican hous leadership given full support chaffetz plan fish expedit doesnt mean cant turn hot light textbook exampl hous becom republican control also second worst person world darrel lucu darrel 30someth graduat univers north carolina consid journalist old school attempt turn member religi right colleg succeed turn religi right worst nightmarea charismat christian unapologet liber desir stand scare silenc increas surviv abus threeyear marriag may know daili ko christian dem nc  follow twitter darrelllucu connect facebook  click buy darrel mello yello connect'\n",
      " 'flynn hillari clinton big woman campu  breitbart ever get feel life circl roundabout rather head straight line toward intend destin hillari clinton remain big woman campu leafi liber wellesley massachusett everywher els vote like inaugur dress remaind day way miss havisham forev wore wed dress  speak great expect hillari rodham overflow 48 year ago first address wellesley graduat class presid colleg inform gather 1969 student need debat far could ascertain spokesman kind like democrat primari 2016 minu   term unknown even seven sister school glad miss adam made clear speak today us —  400 us miss rodham told classmat appoint edger bergen charli mccarthi mortim snerd attend    bespectacl granni glass award matronli wisdom —  least john lennon wisdom took issu previou speaker despit becom first   win elect seat u senat sinc reconstruct edward brook came critic call empathi goal protestor critic tactic though clinton senior thesi saul alinski lament black power demagogu elitist arrog repress intoler within new left similar word come republican necessit brief rebutt trust rodham iron observ 1969 one word ask class rehears want say everyon came said ‘talk trust talk lack trust us way feel other talk trust bust say say feel permeat gener perhap even understood distrust trust bust certainli bust clinton 2016 plan certainli even understand peopl distrust whitewat travelg vast   conspiraci benghazi miss email clinton found distrust voic friday load compromis road broaden polit horizon distrust american peopl —  trump edg 48 percent 38 percent question immedi prior novemb elect —  stood major reason close horizon clinton describ vanquish support embrac lie con altern fact   assault truth reason  fail explain american peopl chose lie truth histori major among today know well peopl power invent fact attack question mark begin end free societi offer hyperbol  like mani peopl emerg 1960 hillari clinton embark upon long strang trip high school goldwat girl wellesley colleg republican presid democrat politician clinton drank time place gave degre significantli went idealist cynic comparison two wellesley commenc address show way back lament long leader view polit art possibl challeng practic polit art make appear imposs possibl  big woman campu odd woman white hous wonder current station even possibl arent 50 point ahead ask septemb may ask isnt presid woman famous dub congenit liar bill safir conclud lie —  mind get stood elect day like find jilt bride wed day inspir danger delus'\n",
      " 'truth might get fire truth might get fire octob 29 2016 tension intellig analyst polit policymak alway honest assess desir result latter often overwhelm former iraq war write lawrenc davidson lawrenc davidson might wonder foreign polici maker repeatedli make bad choic insight might drawn follow analysi action play unit state lesson probabl univers back earli spring 2003 georg w bush initi invas iraq one key public reason claim countri dictat saddam hussein verg develop nuclear weapon hide weapon mass destruct real reason went beyond charg includ longrang plan regim chang middl east presid georg w bush vice presid dick cheney receiv oval offic brief cia director georg tenet also present chief staff andi card right white hous photo purpos concentr belief iraq becom hostil nuclear power presid bush close associ accept scenario readili short answer bush want inde need believ rational invad iraq first tri connect saddam hussein 911 attack us though never gave stratagem lack evid made difficult ralli american peopl alreadi fixat afghanistan support war baghdad nuclear weapon gambit prove fruit hard evid charg supposedli reliabl wit person exil antisaddam iraqi mani us govern payrol  kept tell bush advis nuclear stori true us leadership cadr whose worldview liter demand mortal danger iraq inform order precipit overthrow saddam will tell tale pend atom weapon strong desir believ tale nuclear iraq lower threshold proof  likewis repeat assert assum depend iraqi sourc underpin nationwid us campaign gener fear war fever us alli insist unit nation send weapon inspector scour iraq evid nuclear weapon program well chemic biolog weapon inspector could find convinc evid frustrat bush administr soon forc hand march 19 2003 bush launch invas iraq expect occup countri us inspector would sure find evid nuke least stockpil chemic biolog weapon iraqi inform systemat lie social behavior scienc rescu variou us intellig agenc thoroughli shaken affair today 13 year later director manag still tri sort – specif tell get true intellig lie one intellig worker put need  help protect us armi snake oil salesmen  end cia et al market academ assist ahm chalabi head iraqi nation congress key supplier iraqi defector bogu stori hidden wmd partnership forg offic director nation intellig odni serv coordin center sixteen independ us intellig agenc nation academi scienc engin medicin  result collabor  perman intellig commun studi board coordin program social behavior scienc research might strengthen nation secur  despit effort almost certain social behavior scienc cannot give spi agenc want – way detect lie better present standard procedur polygraph test interrog even could might well make differ real problem found liar found believ believ simpli true odni leader seem assert us intellig agenc personnel cannot tell often lie case thousand middleechelon intellig worker desk offic specialist know someth close approach truth – know pretti well go place like afghanistan iraq syria libya israel palestin elsewher director nation intellig jame clapper right talk presid barack obama oval offic john brennan nation secur aid present photo credit offic director nation intellig therefor someon feed snake oil usual know howev accur grasp thing often avail superior – got appoint accept prestructur worldview – differ criterion true analyst listen charl gaukel nation intellig council – yet anoth organ act meet ground 16 intellig agenc refer search way avoid get taken lie gaukel declar  look truth particularli look truth work  might mean certainli tell mean histor mean power broker truth must match fit worldview – polit ideolog precept fit work intellig specialist send usual accur assess line polici maker often hit roadblock caus group think ideolog blinker know better attitud hand long your sell leadership match want believ peddl anyth imaginari iraqi nuke israel westernstyl democraci saudi arabia indispens alli libya liber countri bashar alassad real roadblock peac syria strateg defens initi sdi aka star war world get colder warmer american exception glori – list almost endless sad tale tell us want spend million dollar social behavior scienc research improv assess use intellig forget liar want look antidot narrowminded believ – policymak seem abl rise ideolog presumpt class – presumpt underpin selfconfid lead us slipperi slope happen way often mani place sourc shakespear determin past prelud elit play destini free – capac break structur way see yet middleechelon specialist keep send rel accur assess ladder power hope spring etern'\n",
      " ...\n",
      " 'maci said receiv takeov approach hudson bay  new york time maci today grew union sever great name american retail includ namesak chain bloomingdal marshal field ambiti owner sak fifth avenu broach idea take union even combin maci creat depart store juggernaut time industri reel hudson bay compani canadian owner sak approach maci potenti takeov peopl brief matter author speak publicli said friday talk two compani earli stage may still fall apart lead partnership kind rather sale unclear whether deal happen combin could lift fortun maci countri biggest depart store struggl investor certainli appear see way share maci rose much 12 percent friday biggest intraday gain sinc aug 11 accord data bloomberg retail titan maci struggl remain relev   discount retail decim tradit    busi last month maci announc plan cut 10 000 job close 880 store terri lundgren chief execut architect maci last big merger expect step end march succeed compani presid jeffrey gennett sinc recess shopper grown accustom hunt bargain pay full price discount store outlet mall flourish tradit store compel respond trim price cut margin depart store hit especi hard particularli shopper migrat away mall emerg analyst say virtual race bottom particularli difficult maci born seri merger past two decad made juggernaut industri stalwart middl tier retail compani neither advantag   retail like hm   store addit maci face increasingli fierc competit onlin site like amazon elsewher maci troubl drawn attent promin activist hedg fund starboard valu urg compani gener cash sell real estat beneath store starboard held 1 percent maci share sept 30 previous estim valu land 21 billion friday analyst citigroup estim maci   hold could worth least 18 billion maci market valu comparison 11 billion friday morn maci taken step sell redevelop store last year ad expert real estat transact board compani larg resist ambiti effort divest real estat includ     deal compani sell underli land beneath store rent back compani suitor hudson bay compani far smaller  —   market valu 1 9 billion canadian dollar 1 5 billion  —   known bold step hudson bay compani assembl grow empir includ hudson bay depart store chain lord  taylor crown jewel sak governor execut chairman hudson bay compani richard baker shown littl fear use debt novemb 2014 compani borrow nearli 4 billion sak flagship midtown manhattan spoken often retail need highlight valu real estat financ bid maci may trickier howev carri 6 5 billion   debt may mean hudson bay compani bring partner borrow real estat hold spokesman hudson bay compani declin comment talk report earlier wall street journal comment rumor specul repres maci said repres starboard valu respond request comment analyst said saw merit potenti combin particularli given maci oper woe mr baker expertis wring money real estat clear logic despit dispar   cap maci hudson bay compani craig johnson presid custom growth partner research firm said note refer maci stock ticker symbol ad retail market chang faster abl keep whether flight mall migrat onlin '\n",
      " 'nato russia hold parallel exercis balkan nato russia hold parallel exercis balkan 11022016 press tv russia militari nato forc hold parallel militari exercis two neighbor balkan countri russian troop particip war game serbia nato conduct militari drill montenegro media report monday russian forc 13day militari exercis serbia name slavic brotherhood 2016 begin wednesday includ 150 russian paratroop 50 air forc staffer three transport plane unspecifi number troop serbia belaru russia defens ministri said fiveday nato drill montenegro start monday involv respond flood chemic attack involv 680 unarm personnel seven nato countri 10 partner state past serbia montenegro constitut republ socialist feder republ yugoslavia countri socialist republ tradit russian christian orthodox alli 2003 state union reform serbia montenegro 2006 two becam independ state sinc split two balkan neighbor seem head differ direct strateg montenegro taken prowestern stanc award nato offer join northern atlant allianc nato invit montenegro met strong opposit russia meanwhil montenegrin offici accus russia stage alleg coup octob toppl prowestern govern nato access bid serbia nato partner held exercis western allianc larg one foreign troop equip particip soil'\n",
      " 'keep f35 aliv   david swanson author activist journalist radio host 2015 nobel peac prize nomine director worldbeyondwarcom campaign coordin rootsactionorg  host talk nation radio  talk nation radio vt radio syndic pacifica network show also air wtju charlottesvil va wcsxdetroit mi kghi westport wa whu storr ct wprr grand rapid mi krfplp moscow id kzgm cabool mo kmud garbervil ca wazu peoria il wxrd crown point geneva radio geneva ny kkrn round mountain ca kskqlp ashland wuowlp oneonta ny lie radio pinol ca wyaplp clay wv detour johnson citi tn wzrd chicago il weft champaign il wxpi pittsburgh pa wdrt viroqua wi verac onlin liberti justic radio shirley ithaca commun radio ithaca ny wmcb greenfield prxorg kao 893fm olympia wa wusb 901 fm stoni brook ny woolfm bellow fall vermont wslrlp 965 sarasota florida also blog davidswansonorg warisacrimeorg prolif author latest book war lie  daybreak undo imperi presid form perfect union  world outlaw war swanson hold master degre philosophi univers virginia work newspap report commun director job includ press secretari denni kucinich 2004 presidenti campaign media coordin intern labor commun associ three year commun coordin acorn associ commun organ reform read full complet biographi davidswansonorg also visit book site war crime  keep f35 aliv david swanson octob 31 2016 petit stop f35 go global david swanson imagin local busi town invent brand new tool intend almost magic effect thousand mile away howev tool kept use local becam area unsaf children children got near tool tend increas blood pressur increas stress hormon lower read skill poorer memori impair auditori speech percept impair academ perform us would find situat least littl concern unless new invent design murder lot peopl itd fine imagin new tool ruin neighborhood peopl couldnt safe live near imagin govern compens peopl kick live near locat tool think might find troubl mass murder mission imagin also tool fairli frequent explod emit highli toxic chemic particl fiber unsaf breath air mile around normal thatd problem tool need kill lot peopl well work flaw wont new gadget expect cost least 1400000000000 50 year money taken away numer expens benefici economi world 14 trillion drain economi caus loss job radic diminuit resourc educ healthcar hous environment protect humanitarian aid wouldnt worri case mean case abil kill ton human be wasnt stake product even work perfectli lead destroy earth natur environ hightech toy wasnt even design expect wasnt even abl design amazingli even shortcom matter long intent massiv murder destruct forgiven tool im describ call f35 rootsactionorg find new petit launch locallymind peopl act global place f35 intend base also link youll find explan tool ive decrib f35 petit direct unit state congress govern australia itali netherland norway turkey unit kingdom israel japan south korea world peopl burlington vermont fairbank alaska f35 base effort initi vermont stop f35 coalit save sky vermont western main matter alaska peac center univers alaska fairbank peac club north star chapter 146 veteran peac world beyond war rootsactionorg code pink ben cohen petit read f35 weapon offens war serv defens purpos plan cost us 14 trillion 50 year starvat earth could end 30 billion lack clean drink water 11 billion per year first foremost wast resourc airplan kill militari spend contrari popular misconcept also hurt us economi  see  economi f35 caus neg health impact cognit impair children live near base render hous near airport unsuit residenti use high crash rate horribl consequ live area crash emiss major environment pollut war endang unit state particip nation rather protect nonviol tool law diplomaci aid crisi prevent verifi nuclear disarma substitut continu counterproduct war therefor undersign call immedi cancel f35 program whole immedi cancel plan base danger noisi jet near popul area oppos replac f35 weapon base f35 locat demand redirect money f35 back taxpay pocket environment human need us f35 custom nation around world includ fight climat chang pay student debt rebuild crumbl infrastructur improv educ healthcar hous add name  david swanson author activist journalist radio host director worldbeyondwarorg campaign coordin rootsactionorg  swanson book includ war lie  blog davidswansonorg warisacrimeorg  host talk nation radio 2015 2016 nobel peac prize nomine follow twitter davidcnswanson facebook  help support davidswansonorg warisacrimeorg talknationradioorg click httpdavidswansonorgdon ']\n"
     ]
    }
   ],
   "source": [
    "print(X)"
   ]
  },
  {
   "cell_type": "code",
   "execution_count": 31,
   "id": "1428eebe",
   "metadata": {},
   "outputs": [
    {
     "name": "stdout",
     "output_type": "stream",
     "text": [
      "[1 0 1 ... 0 1 1]\n"
     ]
    }
   ],
   "source": [
    "print(Y)"
   ]
  },
  {
   "cell_type": "code",
   "execution_count": 32,
   "id": "8b1d4fa2",
   "metadata": {},
   "outputs": [],
   "source": [
    "#Vectorization:\n",
    "vector = TfidfVectorizer()\n",
    "vector.fit(X)\n",
    "X = vector.transform(X)"
   ]
  },
  {
   "cell_type": "code",
   "execution_count": 33,
   "id": "67c64cd4",
   "metadata": {},
   "outputs": [
    {
     "name": "stdout",
     "output_type": "stream",
     "text": [
      "  (0, 142630)\t0.048666288409831546\n",
      "  (0, 142512)\t0.009465190817547516\n",
      "  (0, 141409)\t0.043850614347817174\n",
      "  (0, 141396)\t0.07080431182576076\n",
      "  (0, 141259)\t0.03725813716202547\n",
      "  (0, 141167)\t0.01107568436312838\n",
      "  (0, 140538)\t0.050835754620152745\n",
      "  (0, 139767)\t0.038650186162916884\n",
      "  (0, 139596)\t0.02086921616054415\n",
      "  (0, 139406)\t0.01682285157545243\n",
      "  (0, 139186)\t0.01220509917841046\n",
      "  (0, 139077)\t0.029514728748615753\n",
      "  (0, 138976)\t0.012548398604460978\n",
      "  (0, 138677)\t0.01151606281854624\n",
      "  (0, 137626)\t0.025346411431608595\n",
      "  (0, 137507)\t0.031200821304044016\n",
      "  (0, 136402)\t0.021451953136138933\n",
      "  (0, 134986)\t0.06502161949531679\n",
      "  (0, 133996)\t0.03296838013137909\n",
      "  (0, 133704)\t0.016058735438742987\n",
      "  (0, 132826)\t0.037728884561656295\n",
      "  (0, 132053)\t0.010896891865925214\n",
      "  (0, 132025)\t0.042799752773695535\n",
      "  (0, 131932)\t0.13502534089832152\n",
      "  (0, 131775)\t0.07002977192214592\n",
      "  :\t:\n",
      "  (18284, 9495)\t0.08085898329563401\n",
      "  (18284, 9170)\t0.02077850583590922\n",
      "  (18284, 9168)\t0.02642082930036477\n",
      "  (18284, 9111)\t0.03012890409567219\n",
      "  (18284, 9044)\t0.03035694191145826\n",
      "  (18284, 7905)\t0.016997602187769557\n",
      "  (18284, 7734)\t0.03491835660060342\n",
      "  (18284, 7674)\t0.012315837303887746\n",
      "  (18284, 7612)\t0.03798738283795126\n",
      "  (18284, 7301)\t0.022006466893177857\n",
      "  (18284, 7017)\t0.013754543107665277\n",
      "  (18284, 6999)\t0.01704033580629367\n",
      "  (18284, 6533)\t0.04155909200232323\n",
      "  (18284, 6345)\t0.03988756304574054\n",
      "  (18284, 6264)\t0.045529886510196085\n",
      "  (18284, 4843)\t0.03136104854947446\n",
      "  (18284, 3820)\t0.019716901897354984\n",
      "  (18284, 3711)\t0.015010785699073803\n",
      "  (18284, 2751)\t0.020813924869859755\n",
      "  (18284, 2729)\t0.027662948119807507\n",
      "  (18284, 2582)\t0.021745485233859586\n",
      "  (18284, 1382)\t0.03598420021959518\n",
      "  (18284, 1321)\t0.045529886510196085\n",
      "  (18284, 1316)\t0.035907622842743236\n",
      "  (18284, 681)\t0.015704674221812594\n"
     ]
    }
   ],
   "source": [
    "print(X) #after vector conversion:"
   ]
  },
  {
   "cell_type": "code",
   "execution_count": 36,
   "id": "601192f1",
   "metadata": {},
   "outputs": [],
   "source": [
    "X_train, X_test, y_train, y_test = train_test_split(X, Y, test_size=0.2, stratify = Y, random_state=1)"
   ]
  },
  {
   "cell_type": "code",
   "execution_count": 37,
   "id": "069ae09e",
   "metadata": {},
   "outputs": [
    {
     "data": {
      "text/plain": [
       "(14628, 157938)"
      ]
     },
     "execution_count": 37,
     "metadata": {},
     "output_type": "execute_result"
    }
   ],
   "source": [
    "X_train.shape"
   ]
  },
  {
   "cell_type": "code",
   "execution_count": 38,
   "id": "0a24cf7d",
   "metadata": {},
   "outputs": [
    {
     "data": {
      "text/plain": [
       "(3657, 157938)"
      ]
     },
     "execution_count": 38,
     "metadata": {},
     "output_type": "execute_result"
    }
   ],
   "source": [
    "X_test.shape"
   ]
  },
  {
   "cell_type": "code",
   "execution_count": 40,
   "id": "0123e3ce",
   "metadata": {},
   "outputs": [
    {
     "data": {
      "text/html": [
       "<style>#sk-container-id-1 {color: black;background-color: white;}#sk-container-id-1 pre{padding: 0;}#sk-container-id-1 div.sk-toggleable {background-color: white;}#sk-container-id-1 label.sk-toggleable__label {cursor: pointer;display: block;width: 100%;margin-bottom: 0;padding: 0.3em;box-sizing: border-box;text-align: center;}#sk-container-id-1 label.sk-toggleable__label-arrow:before {content: \"▸\";float: left;margin-right: 0.25em;color: #696969;}#sk-container-id-1 label.sk-toggleable__label-arrow:hover:before {color: black;}#sk-container-id-1 div.sk-estimator:hover label.sk-toggleable__label-arrow:before {color: black;}#sk-container-id-1 div.sk-toggleable__content {max-height: 0;max-width: 0;overflow: hidden;text-align: left;background-color: #f0f8ff;}#sk-container-id-1 div.sk-toggleable__content pre {margin: 0.2em;color: black;border-radius: 0.25em;background-color: #f0f8ff;}#sk-container-id-1 input.sk-toggleable__control:checked~div.sk-toggleable__content {max-height: 200px;max-width: 100%;overflow: auto;}#sk-container-id-1 input.sk-toggleable__control:checked~label.sk-toggleable__label-arrow:before {content: \"▾\";}#sk-container-id-1 div.sk-estimator input.sk-toggleable__control:checked~label.sk-toggleable__label {background-color: #d4ebff;}#sk-container-id-1 div.sk-label input.sk-toggleable__control:checked~label.sk-toggleable__label {background-color: #d4ebff;}#sk-container-id-1 input.sk-hidden--visually {border: 0;clip: rect(1px 1px 1px 1px);clip: rect(1px, 1px, 1px, 1px);height: 1px;margin: -1px;overflow: hidden;padding: 0;position: absolute;width: 1px;}#sk-container-id-1 div.sk-estimator {font-family: monospace;background-color: #f0f8ff;border: 1px dotted black;border-radius: 0.25em;box-sizing: border-box;margin-bottom: 0.5em;}#sk-container-id-1 div.sk-estimator:hover {background-color: #d4ebff;}#sk-container-id-1 div.sk-parallel-item::after {content: \"\";width: 100%;border-bottom: 1px solid gray;flex-grow: 1;}#sk-container-id-1 div.sk-label:hover label.sk-toggleable__label {background-color: #d4ebff;}#sk-container-id-1 div.sk-serial::before {content: \"\";position: absolute;border-left: 1px solid gray;box-sizing: border-box;top: 0;bottom: 0;left: 50%;z-index: 0;}#sk-container-id-1 div.sk-serial {display: flex;flex-direction: column;align-items: center;background-color: white;padding-right: 0.2em;padding-left: 0.2em;position: relative;}#sk-container-id-1 div.sk-item {position: relative;z-index: 1;}#sk-container-id-1 div.sk-parallel {display: flex;align-items: stretch;justify-content: center;background-color: white;position: relative;}#sk-container-id-1 div.sk-item::before, #sk-container-id-1 div.sk-parallel-item::before {content: \"\";position: absolute;border-left: 1px solid gray;box-sizing: border-box;top: 0;bottom: 0;left: 50%;z-index: -1;}#sk-container-id-1 div.sk-parallel-item {display: flex;flex-direction: column;z-index: 1;position: relative;background-color: white;}#sk-container-id-1 div.sk-parallel-item:first-child::after {align-self: flex-end;width: 50%;}#sk-container-id-1 div.sk-parallel-item:last-child::after {align-self: flex-start;width: 50%;}#sk-container-id-1 div.sk-parallel-item:only-child::after {width: 0;}#sk-container-id-1 div.sk-dashed-wrapped {border: 1px dashed gray;margin: 0 0.4em 0.5em 0.4em;box-sizing: border-box;padding-bottom: 0.4em;background-color: white;}#sk-container-id-1 div.sk-label label {font-family: monospace;font-weight: bold;display: inline-block;line-height: 1.2em;}#sk-container-id-1 div.sk-label-container {text-align: center;}#sk-container-id-1 div.sk-container {/* jupyter's `normalize.less` sets `[hidden] { display: none; }` but bootstrap.min.css set `[hidden] { display: none !important; }` so we also need the `!important` here to be able to override the default hidden behavior on the sphinx rendered scikit-learn.org. See: https://github.com/scikit-learn/scikit-learn/issues/21755 */display: inline-block !important;position: relative;}#sk-container-id-1 div.sk-text-repr-fallback {display: none;}</style><div id=\"sk-container-id-1\" class=\"sk-top-container\"><div class=\"sk-text-repr-fallback\"><pre>LogisticRegression()</pre><b>In a Jupyter environment, please rerun this cell to show the HTML representation or trust the notebook. <br />On GitHub, the HTML representation is unable to render, please try loading this page with nbviewer.org.</b></div><div class=\"sk-container\" hidden><div class=\"sk-item\"><div class=\"sk-estimator sk-toggleable\"><input class=\"sk-toggleable__control sk-hidden--visually\" id=\"sk-estimator-id-1\" type=\"checkbox\" checked><label for=\"sk-estimator-id-1\" class=\"sk-toggleable__label sk-toggleable__label-arrow\">LogisticRegression</label><div class=\"sk-toggleable__content\"><pre>LogisticRegression()</pre></div></div></div></div></div>"
      ],
      "text/plain": [
       "LogisticRegression()"
      ]
     },
     "execution_count": 40,
     "metadata": {},
     "output_type": "execute_result"
    }
   ],
   "source": [
    "#Training of the model:\n",
    "model = LogisticRegression()\n",
    "model.fit(X_train, y_train)"
   ]
  },
  {
   "cell_type": "code",
   "execution_count": 42,
   "id": "54cd3562",
   "metadata": {},
   "outputs": [
    {
     "name": "stdout",
     "output_type": "stream",
     "text": [
      "Train Accuracy:  0.9793546622914958\n"
     ]
    }
   ],
   "source": [
    "y_preds_train = model.predict(X_train)\n",
    "print(\"Train Accuracy: \", accuracy_score(y_preds_train, y_train))"
   ]
  },
  {
   "cell_type": "code",
   "execution_count": 43,
   "id": "199fec5f",
   "metadata": {},
   "outputs": [
    {
     "name": "stdout",
     "output_type": "stream",
     "text": [
      "Train Accuracy:  0.9554279464041564\n"
     ]
    }
   ],
   "source": [
    "y_preds_test = model.predict(X_test)\n",
    "print(\"Train Accuracy: \", accuracy_score(y_preds_test, y_test))"
   ]
  },
  {
   "cell_type": "code",
   "execution_count": 67,
   "id": "02f22a48",
   "metadata": {},
   "outputs": [
    {
     "name": "stdout",
     "output_type": "stream",
     "text": [
      "Fake News\n"
     ]
    }
   ],
   "source": [
    "#prediction system:\n",
    "input_data = X_test[1000]\n",
    "prediction = model.predict(input_data)\n",
    "\n",
    "if prediction[0] == 1:\n",
    "    print(\"Fake News\")\n",
    "else:\n",
    "    print(\"Real News\")"
   ]
  },
  {
   "cell_type": "code",
   "execution_count": 68,
   "id": "eb9a0596",
   "metadata": {},
   "outputs": [
    {
     "data": {
      "text/plain": [
       "'william sister could step semifin showdown us open  new york time william sister face arthur ash stadium semifin long stori career serena venu william play unit state open fourth round quarterfin twice final twice never tournament penultim round   serena william   unit state open champion hope pass steffi graf open era record 22 grand slam singl titl dealt challeng path friday draw unit state open set begin monday face 2014 semifinalist ekaterina makarova first round may meet former 1 ana ivanov third round current 5 simona halep quarterfin venu william 6 highest rank five year land quarter draw 4 agnieszka radwanska william 36 reach semifin wimbledon last month silver medal mix doubl rio olymp surpris singl gold medalist mónica puig puerto rico gain   seed 32 sloan stephen withdrew friday morn third round could meet 3 garbiñ muguruza thrash     olymp 8 madison key 28 coco vandewegh also muguruza quarter could face third round roberta vinci last year surpris finalist bottom quarter 2 angeliqu kerber could overtak serena william 1 rank william fail reach semifin petra kvitova   wimbledon champion could face kerber fourth round novak djokov men top seed defend champion difficult draw along left wrist injuri struggl sinc olymp open jerzi janowicz 2013 wimbledon semifinalist boom serv djokov could face anoth big server 20 john isner fourth round possibl quarterfin matchup   marin cilic recent cincinnati champion 2014 unit state open winner 4 rafael nadal 5 milo raonic loom possibl semifin oppon two promis american teenag place djokov quarter pit establish countrymen taylor fritz 18 face 26 jack sock lost five tumultu set first round australian open franc tiafo 18 open isner 14 nick kyrgio could face anoth young australian 17 bernard tomic third round possibl stan wawrinka kyrgio   tournament last year fourth round wawrinka supplant injur roger feder 3 earli hurdl first round fernando verdasco upset nadal first round year australian open standout wawrinka quarter howev juan martín del potro need wild card enter main draw despit resurg form silver medal rio del potro could face   american man steve johnson second round andi murray wimbledon champion olymp gold medalist 6 kei nishikori highest seed quarter bracket set 254 main draw match alreadi 224 qualifi match improb qualifi   christian harrison 22   american junior miss year myriad injuri surgeri defeat steven diez canada       reach first grand slam main draw join older brother ryan also reach main draw qualifi christian walk court hand cellphon ryan midst play world teamtenni final forest hill line love dude christian said cici belli fan favorit 2014 unit state open advanc second round    made main draw grand slam tournament first time sinc     5   victori alison van uytvanck friday'"
      ]
     },
     "execution_count": 68,
     "metadata": {},
     "output_type": "execute_result"
    }
   ],
   "source": [
    "news_df['title_txt'][1000]"
   ]
  },
  {
   "cell_type": "code",
   "execution_count": 60,
   "id": "88eae715",
   "metadata": {},
   "outputs": [
    {
     "data": {
      "text/plain": [
       "'iranian woman jail fiction unpublish stori woman stone death adulteri print iranian woman sentenc six year prison iran revolutionari guard search home found notebook contain fiction stori shed written woman stone death accord eurasia review  golrokh ebrahimi irae 35 wife polit prison arash sadeghi 36 serv 19year prison sentenc human right activist public report intellig unit revolutionari guard came arrest husband raid apart – without warrant – found draft stori ebrahimi irae written articl state one confisc draft stori stone women death adulteri – never publish never present anyon articl state narr follow stori protagonist watch movi stone women islam law adulteri'"
      ]
     },
     "execution_count": 60,
     "metadata": {},
     "output_type": "execute_result"
    }
   ],
   "source": [
    "news_df[\"title_txt\"][4]"
   ]
  },
  {
   "cell_type": "code",
   "execution_count": null,
   "id": "56c652b1",
   "metadata": {},
   "outputs": [],
   "source": []
  }
 ],
 "metadata": {
  "kernelspec": {
   "display_name": "Python 3 (ipykernel)",
   "language": "python",
   "name": "python3"
  },
  "language_info": {
   "codemirror_mode": {
    "name": "ipython",
    "version": 3
   },
   "file_extension": ".py",
   "mimetype": "text/x-python",
   "name": "python",
   "nbconvert_exporter": "python",
   "pygments_lexer": "ipython3",
   "version": "3.10.9"
  }
 },
 "nbformat": 4,
 "nbformat_minor": 5
}
